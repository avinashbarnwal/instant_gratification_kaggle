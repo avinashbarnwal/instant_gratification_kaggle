{
 "cells": [
  {
   "cell_type": "code",
   "execution_count": 1,
   "metadata": {
    "_cell_guid": "b1076dfc-b9ad-4769-8c92-a6c4dae69d19",
    "_uuid": "8f2839f25d086af736a60e9eeb907d3b93b6e0e5"
   },
   "outputs": [
    {
     "ename": "AttributeError",
     "evalue": "'list' object has no attribute 'shape'",
     "output_type": "error",
     "traceback": [
      "\u001b[0;31m---------------------------------------------------------------------------\u001b[0m",
      "\u001b[0;31mAttributeError\u001b[0m                            Traceback (most recent call last)",
      "\u001b[0;32m<ipython-input-1-90940c8c7b7b>\u001b[0m in \u001b[0;36m<module>\u001b[0;34m()\u001b[0m\n\u001b[1;32m     20\u001b[0m \u001b[0mtest\u001b[0m \u001b[0;34m=\u001b[0m \u001b[0mpd\u001b[0m\u001b[0;34m.\u001b[0m\u001b[0mread_csv\u001b[0m\u001b[0;34m(\u001b[0m\u001b[0;34m'../input/test.csv'\u001b[0m\u001b[0;34m)\u001b[0m\u001b[0;34m\u001b[0m\u001b[0m\n\u001b[1;32m     21\u001b[0m \u001b[0;32mif\u001b[0m \u001b[0mlen\u001b[0m\u001b[0;34m(\u001b[0m\u001b[0mtest\u001b[0m\u001b[0;34m)\u001b[0m \u001b[0;34m<\u001b[0m \u001b[0;36m150000\u001b[0m\u001b[0;34m:\u001b[0m\u001b[0;34m\u001b[0m\u001b[0m\n\u001b[0;32m---> 22\u001b[0;31m     \u001b[0;34m[\u001b[0m\u001b[0;34m]\u001b[0m\u001b[0;34m.\u001b[0m\u001b[0mshape\u001b[0m\u001b[0;34m\u001b[0m\u001b[0m\n\u001b[0m\u001b[1;32m     23\u001b[0m \u001b[0mcols\u001b[0m \u001b[0;34m=\u001b[0m \u001b[0;34m[\u001b[0m\u001b[0mc\u001b[0m \u001b[0;32mfor\u001b[0m \u001b[0mc\u001b[0m \u001b[0;32min\u001b[0m \u001b[0mtrain\u001b[0m\u001b[0;34m.\u001b[0m\u001b[0mcolumns\u001b[0m \u001b[0;32mif\u001b[0m \u001b[0mc\u001b[0m \u001b[0;32mnot\u001b[0m \u001b[0;32min\u001b[0m \u001b[0;34m[\u001b[0m\u001b[0;34m'id'\u001b[0m\u001b[0;34m,\u001b[0m \u001b[0;34m'target'\u001b[0m\u001b[0;34m,\u001b[0m \u001b[0;34m'wheezy-copper-turtle-magic'\u001b[0m\u001b[0;34m]\u001b[0m\u001b[0;34m]\u001b[0m\u001b[0;34m\u001b[0m\u001b[0m\n\u001b[1;32m     24\u001b[0m \u001b[0mprint\u001b[0m\u001b[0;34m(\u001b[0m\u001b[0mtrain\u001b[0m\u001b[0;34m.\u001b[0m\u001b[0mshape\u001b[0m\u001b[0;34m,\u001b[0m \u001b[0mtest\u001b[0m\u001b[0;34m.\u001b[0m\u001b[0mshape\u001b[0m\u001b[0;34m)\u001b[0m\u001b[0;34m\u001b[0m\u001b[0m\n",
      "\u001b[0;31mAttributeError\u001b[0m: 'list' object has no attribute 'shape'"
     ]
    }
   ],
   "source": [
    "import numpy as np\n",
    "import pandas as pd\n",
    "from sklearn.model_selection import StratifiedKFold\n",
    "from sklearn.metrics import roc_auc_score\n",
    "from sklearn.preprocessing import StandardScaler\n",
    "from sklearn.feature_selection import VarianceThreshold\n",
    "from sklearn.discriminant_analysis import QuadraticDiscriminantAnalysis, LinearDiscriminantAnalysis\n",
    "from sklearn.pipeline import Pipeline\n",
    "from tqdm import tqdm_notebook\n",
    "import warnings  \n",
    "import time\n",
    "warnings.filterwarnings('ignore')\n",
    "\n",
    "# write fake submission file \n",
    "sub = pd.read_csv('../input/sample_submission.csv')\n",
    "sub['target'] = 0\n",
    "sub.to_csv('submission.csv',index=False)\n",
    "\n",
    "train = pd.read_csv('../input/train.csv')\n",
    "test = pd.read_csv('../input/test.csv')\n",
    "if len(test) < 150000:\n",
    "    [].shape\n",
    "cols = [c for c in train.columns if c not in ['id', 'target', 'wheezy-copper-turtle-magic']]\n",
    "print(train.shape, test.shape)"
   ]
  },
  {
   "cell_type": "code",
   "execution_count": 2,
   "metadata": {
    "_cell_guid": "79c7e3d0-c299-4dcb-8224-4455121ee9b0",
    "_uuid": "d629ff2d2480ee46fbb7e2d37f6b5fab8052498a",
    "collapsed": true
   },
   "outputs": [
    {
     "data": {
      "application/vnd.jupyter.widget-view+json": {
       "model_id": "93f829556c1f45428b6fcb9f230143f9",
       "version_major": 2,
       "version_minor": 0
      },
      "text/plain": [
       "HBox(children=(IntProgress(value=0, max=512), HTML(value='')))"
      ]
     },
     "metadata": {},
     "output_type": "display_data"
    },
    {
     "name": "stdout",
     "output_type": "stream",
     "text": [
      "\n"
     ]
    },
    {
     "ename": "NameError",
     "evalue": "name 'cols' is not defined",
     "output_type": "error",
     "traceback": [
      "\u001b[0;31m---------------------------------------------------------------------------\u001b[0m",
      "\u001b[0;31mNameError\u001b[0m                                 Traceback (most recent call last)",
      "\u001b[0;32m<ipython-input-2-b55e8c40d7e7>\u001b[0m in \u001b[0;36m<module>\u001b[0;34m()\u001b[0m\n\u001b[1;32m      9\u001b[0m     \u001b[0mtrain2\u001b[0m\u001b[0;34m.\u001b[0m\u001b[0mreset_index\u001b[0m\u001b[0;34m(\u001b[0m\u001b[0mdrop\u001b[0m\u001b[0;34m=\u001b[0m\u001b[0;32mTrue\u001b[0m\u001b[0;34m,\u001b[0m\u001b[0minplace\u001b[0m\u001b[0;34m=\u001b[0m\u001b[0;32mTrue\u001b[0m\u001b[0;34m)\u001b[0m\u001b[0;34m\u001b[0m\u001b[0m\n\u001b[1;32m     10\u001b[0m \u001b[0;34m\u001b[0m\u001b[0m\n\u001b[0;32m---> 11\u001b[0;31m     \u001b[0mdata\u001b[0m \u001b[0;34m=\u001b[0m \u001b[0mpd\u001b[0m\u001b[0;34m.\u001b[0m\u001b[0mconcat\u001b[0m\u001b[0;34m(\u001b[0m\u001b[0;34m[\u001b[0m\u001b[0mpd\u001b[0m\u001b[0;34m.\u001b[0m\u001b[0mDataFrame\u001b[0m\u001b[0;34m(\u001b[0m\u001b[0mtrain2\u001b[0m\u001b[0;34m[\u001b[0m\u001b[0mcols\u001b[0m\u001b[0;34m]\u001b[0m\u001b[0;34m)\u001b[0m\u001b[0;34m,\u001b[0m \u001b[0mpd\u001b[0m\u001b[0;34m.\u001b[0m\u001b[0mDataFrame\u001b[0m\u001b[0;34m(\u001b[0m\u001b[0mtest2\u001b[0m\u001b[0;34m[\u001b[0m\u001b[0mcols\u001b[0m\u001b[0;34m]\u001b[0m\u001b[0;34m)\u001b[0m\u001b[0;34m]\u001b[0m\u001b[0;34m)\u001b[0m\u001b[0;34m\u001b[0m\u001b[0m\n\u001b[0m\u001b[1;32m     12\u001b[0m     \u001b[0mdata2\u001b[0m \u001b[0;34m=\u001b[0m \u001b[0mVarianceThreshold\u001b[0m\u001b[0;34m(\u001b[0m\u001b[0mthreshold\u001b[0m\u001b[0;34m=\u001b[0m\u001b[0;36m2\u001b[0m\u001b[0;34m)\u001b[0m\u001b[0;34m.\u001b[0m\u001b[0mfit_transform\u001b[0m\u001b[0;34m(\u001b[0m\u001b[0mdata\u001b[0m\u001b[0;34m[\u001b[0m\u001b[0mcols\u001b[0m\u001b[0;34m]\u001b[0m\u001b[0;34m)\u001b[0m\u001b[0;34m\u001b[0m\u001b[0m\n\u001b[1;32m     13\u001b[0m     \u001b[0mtrain3\u001b[0m \u001b[0;34m=\u001b[0m \u001b[0mdata2\u001b[0m\u001b[0;34m[\u001b[0m\u001b[0;34m:\u001b[0m\u001b[0mtrain2\u001b[0m\u001b[0;34m.\u001b[0m\u001b[0mshape\u001b[0m\u001b[0;34m[\u001b[0m\u001b[0;36m0\u001b[0m\u001b[0;34m]\u001b[0m\u001b[0;34m]\u001b[0m\u001b[0;34m;\u001b[0m \u001b[0mtest3\u001b[0m \u001b[0;34m=\u001b[0m \u001b[0mdata2\u001b[0m\u001b[0;34m[\u001b[0m\u001b[0mtrain2\u001b[0m\u001b[0;34m.\u001b[0m\u001b[0mshape\u001b[0m\u001b[0;34m[\u001b[0m\u001b[0;36m0\u001b[0m\u001b[0;34m]\u001b[0m\u001b[0;34m:\u001b[0m\u001b[0;34m]\u001b[0m\u001b[0;34m\u001b[0m\u001b[0m\n",
      "\u001b[0;31mNameError\u001b[0m: name 'cols' is not defined"
     ]
    }
   ],
   "source": [
    "oof = np.zeros(len(train))\n",
    "preds = np.zeros(len(test))\n",
    "\n",
    "for i in tqdm_notebook(range(512)):\n",
    "\n",
    "    train2 = train[train['wheezy-copper-turtle-magic']==i]\n",
    "    test2 = test[test['wheezy-copper-turtle-magic']==i]\n",
    "    idx1 = train2.index; idx2 = test2.index\n",
    "    train2.reset_index(drop=True,inplace=True)\n",
    "\n",
    "    data = pd.concat([pd.DataFrame(train2[cols]), pd.DataFrame(test2[cols])])\n",
    "    data2 = VarianceThreshold(threshold=2).fit_transform(data[cols])\n",
    "    train3 = data2[:train2.shape[0]]; test3 = data2[train2.shape[0]:]\n",
    "\n",
    "    skf = StratifiedKFold(n_splits=11, random_state=42)\n",
    "    for train_index, test_index in skf.split(train2, train2['target']):\n",
    "\n",
    "        clf = QuadraticDiscriminantAnalysis(0.5)\n",
    "        clf.fit(train3[train_index,:],train2.loc[train_index]['target'])\n",
    "        oof[idx1[test_index]] = clf.predict_proba(train3[test_index,:])[:,1]\n",
    "        preds[idx2] += clf.predict_proba(test3)[:,1] / skf.n_splits\n",
    "\n",
    "auc = roc_auc_score(train['target'], oof)\n",
    "print(f'AUC: {auc:.5}')\n",
    "\n",
    "test['target'] = preds\n",
    "test.loc[test['target'] > 0.955, 'target'] = 1 # initial 94\n",
    "test.loc[test['target'] < 0.045, 'target'] = 0 # initial 06\n",
    "usefull_test = test[(test['target'] == 1) | (test['target'] == 0)]\n",
    "new_train = pd.concat([train, usefull_test]).reset_index(drop=True)\n",
    "print(usefull_test.shape[0], \"Test Records added\")\n",
    "new_train.loc[oof > 0.99, 'target'] = 1 # initial 98\n",
    "new_train.loc[oof < 0.01, 'target'] = 0 # initial 02"
   ]
  },
  {
   "cell_type": "code",
   "execution_count": 3,
   "metadata": {},
   "outputs": [],
   "source": [
    "#from sklearn.mixture import BayesianGaussianMixture as bgm\n",
    "from sklearn.mixture import GaussianMixture as bgm\n",
    "import time\n",
    "\n",
    "def count(x):\n",
    "    ret = [0,0,0,0,0,0]\n",
    "    for i in x:\n",
    "        ret[i] += 1\n",
    "    return ret\n",
    "\n",
    "def get_clf(data, data_pos, data_neg):\n",
    "    start = time.time()\n",
    "    while True:\n",
    "        clf = bgm(n_components=6, covariance_type=\"full\")\n",
    "        clf.fit(data)\n",
    "        p1 = count(clf.predict(data_pos))\n",
    "        p2 = count(clf.predict(data_neg))\n",
    "        flag = True\n",
    "        up = len(data_pos)/3.6\n",
    "        low = len(data_pos)/30\n",
    "        for i in range(6):\n",
    "            flag &= (p1[i] > up and p2[i] < low) or (p2[i] > up and p1[i] < low)\n",
    "        t = time.time() - start\n",
    "        if t > 40:\n",
    "            return None, None\n",
    "        if flag:\n",
    "            #print(p1)\n",
    "            #print(p2)\n",
    "            pindex = set()\n",
    "            for i in range(6):\n",
    "                if p1[i] > 99:\n",
    "                    pindex.add(i)\n",
    "            return pindex, clf"
   ]
  },
  {
   "cell_type": "code",
   "execution_count": 4,
   "metadata": {},
   "outputs": [
    {
     "data": {
      "application/vnd.jupyter.widget-view+json": {
       "model_id": "13493d6c30df43908001303590115eaa",
       "version_major": 2,
       "version_minor": 0
      },
      "text/plain": [
       "HBox(children=(IntProgress(value=0, max=512), HTML(value='')))"
      ]
     },
     "metadata": {},
     "output_type": "display_data"
    },
    {
     "name": "stdout",
     "output_type": "stream",
     "text": [
      "\n"
     ]
    },
    {
     "ename": "NameError",
     "evalue": "name 'new_train' is not defined",
     "output_type": "error",
     "traceback": [
      "\u001b[0;31m---------------------------------------------------------------------------\u001b[0m",
      "\u001b[0;31mNameError\u001b[0m                                 Traceback (most recent call last)",
      "\u001b[0;32m<ipython-input-4-d6a584e1239a>\u001b[0m in \u001b[0;36m<module>\u001b[0;34m()\u001b[0m\n\u001b[1;32m      4\u001b[0m \u001b[0;32mfor\u001b[0m \u001b[0mi\u001b[0m \u001b[0;32min\u001b[0m \u001b[0mtqdm_notebook\u001b[0m\u001b[0;34m(\u001b[0m\u001b[0mrange\u001b[0m\u001b[0;34m(\u001b[0m\u001b[0;36m512\u001b[0m\u001b[0;34m)\u001b[0m\u001b[0;34m)\u001b[0m\u001b[0;34m:\u001b[0m\u001b[0;34m\u001b[0m\u001b[0m\n\u001b[1;32m      5\u001b[0m     \u001b[0mptrain\u001b[0m \u001b[0;34m=\u001b[0m \u001b[0mtrain\u001b[0m\u001b[0;34m[\u001b[0m\u001b[0mtrain\u001b[0m\u001b[0;34m[\u001b[0m\u001b[0;34m'wheezy-copper-turtle-magic'\u001b[0m\u001b[0;34m]\u001b[0m\u001b[0;34m==\u001b[0m\u001b[0mi\u001b[0m\u001b[0;34m]\u001b[0m\u001b[0;34m\u001b[0m\u001b[0m\n\u001b[0;32m----> 6\u001b[0;31m     \u001b[0mptrain_add\u001b[0m \u001b[0;34m=\u001b[0m \u001b[0mnew_train\u001b[0m\u001b[0;34m[\u001b[0m\u001b[0mnew_train\u001b[0m\u001b[0;34m[\u001b[0m\u001b[0;34m'wheezy-copper-turtle-magic'\u001b[0m\u001b[0;34m]\u001b[0m\u001b[0;34m==\u001b[0m\u001b[0mi\u001b[0m\u001b[0;34m]\u001b[0m\u001b[0;34m\u001b[0m\u001b[0m\n\u001b[0m\u001b[1;32m      7\u001b[0m     \u001b[0mptest\u001b[0m \u001b[0;34m=\u001b[0m \u001b[0mtest\u001b[0m\u001b[0;34m[\u001b[0m\u001b[0mtest\u001b[0m\u001b[0;34m[\u001b[0m\u001b[0;34m'wheezy-copper-turtle-magic'\u001b[0m\u001b[0;34m]\u001b[0m\u001b[0;34m==\u001b[0m\u001b[0mi\u001b[0m\u001b[0;34m]\u001b[0m\u001b[0;34m\u001b[0m\u001b[0m\n\u001b[1;32m      8\u001b[0m     \u001b[0midx1\u001b[0m \u001b[0;34m=\u001b[0m \u001b[0mtrain\u001b[0m\u001b[0;34m[\u001b[0m\u001b[0mtrain\u001b[0m\u001b[0;34m[\u001b[0m\u001b[0;34m'wheezy-copper-turtle-magic'\u001b[0m\u001b[0;34m]\u001b[0m\u001b[0;34m==\u001b[0m\u001b[0mi\u001b[0m\u001b[0;34m]\u001b[0m\u001b[0;34m.\u001b[0m\u001b[0mindex\u001b[0m\u001b[0;34m\u001b[0m\u001b[0m\n",
      "\u001b[0;31mNameError\u001b[0m: name 'new_train' is not defined"
     ]
    }
   ],
   "source": [
    "poof = np.zeros(len(train))\n",
    "ppreds = np.zeros(len(test))\n",
    "\n",
    "for i in tqdm_notebook(range(512)):\n",
    "    ptrain = train[train['wheezy-copper-turtle-magic']==i]\n",
    "    ptrain_add = new_train[new_train['wheezy-copper-turtle-magic']==i]\n",
    "    ptest = test[test['wheezy-copper-turtle-magic']==i]\n",
    "    idx1 = train[train['wheezy-copper-turtle-magic']==i].index\n",
    "    idx2 = test[test['wheezy-copper-turtle-magic']==i].index\n",
    "    ptrain_add.reset_index(drop=True,inplace=True)\n",
    "    ptest.reset_index(drop=True,inplace=True)\n",
    "    sel = VarianceThreshold(threshold=1.5).fit(ptrain[cols])\n",
    "    ptrain_np = sel.transform(ptrain[cols])\n",
    "    ptrain_add_np = sel.transform(ptrain_add[cols])\n",
    "    ptest_np = sel.transform(ptest[cols])\n",
    "    \n",
    "    skf = StratifiedKFold(n_splits=11, random_state=42, shuffle=True)\n",
    "    for train_index, test_index in skf.split(ptrain_add_np, ptrain_add['target']):\n",
    "        test_index3 = test_index[ test_index<len(ptrain) ] # ignore pseudo in oof\n",
    "\n",
    "        # MODEL AND PREDICT WITH QDA\n",
    "        clf = QuadraticDiscriminantAnalysis(reg_param=0.5)\n",
    "        clf.fit(ptrain_add_np[train_index,:],ptrain_add.loc[train_index]['target'])\n",
    "        poof[idx1[test_index3]] = clf.predict_proba(ptrain_add_np[test_index3,:])[:,1]\n",
    "        ppreds[idx2] += clf.predict_proba(ptest_np)[:,1] / skf.n_splits\n",
    "    auc1 = roc_auc_score(ptrain['target'], poof[idx1])\n",
    "    print(round(auc1,5))\n",
    "    ptrain_add_pos = ptrain_add[ptrain_add['target'] == 1]\n",
    "    ptrain_add_neg = ptrain_add[ptrain_add['target'] == 0]\n",
    "    ptrain_add_pos_np = sel.transform(ptrain_add_pos[cols])\n",
    "    ptrain_add_neg_np = sel.transform(ptrain_add_neg[cols])\n",
    "    \n",
    "    pindex, clf = get_clf(ptrain_add_np, ptrain_add_pos_np, ptrain_add_neg_np)\n",
    "    if clf:\n",
    "        ppp = clf.predict(ptrain_np)\n",
    "        pppt = clf.predict(ptest_np)\n",
    "        pr = clf.predict_proba(ptest_np)\n",
    "        preds = []\n",
    "        pt = []\n",
    "        for k in ppp:\n",
    "            if k in pindex:\n",
    "                preds.append(1)\n",
    "            else:\n",
    "                preds.append(0)\n",
    "        for i, k in enumerate(pppt):\n",
    "            if k in pindex:\n",
    "                pt.append(pr[i][k])\n",
    "            else:\n",
    "                pt.append(1 - pr[i][k])\n",
    "        auc2 = roc_auc_score(ptrain['target'],preds)\n",
    "        poof[idx1] = preds\n",
    "        ppreds[idx2] = pt\n",
    "    print(round(auc1,5) ,round(auc2,5))\n",
    "\n",
    "auc = roc_auc_score(train['target'],poof)\n",
    "print('QDA scores CV =',round(auc,5))"
   ]
  },
  {
   "cell_type": "code",
   "execution_count": 5,
   "metadata": {},
   "outputs": [
    {
     "name": "stdout",
     "output_type": "stream",
     "text": [
      "131073 Test Records added\n"
     ]
    },
    {
     "data": {
      "application/vnd.jupyter.widget-view+json": {
       "model_id": "645b9a5c3b014c609f620897bbf0f48e",
       "version_major": 2,
       "version_minor": 0
      },
      "text/plain": [
       "HBox(children=(IntProgress(value=0, max=512), HTML(value='')))"
      ]
     },
     "metadata": {},
     "output_type": "display_data"
    },
    {
     "name": "stdout",
     "output_type": "stream",
     "text": [
      "\n"
     ]
    },
    {
     "ename": "NameError",
     "evalue": "name 'cols' is not defined",
     "output_type": "error",
     "traceback": [
      "\u001b[0;31m---------------------------------------------------------------------------\u001b[0m",
      "\u001b[0;31mNameError\u001b[0m                                 Traceback (most recent call last)",
      "\u001b[0;32m<ipython-input-5-e333d6152159>\u001b[0m in \u001b[0;36m<module>\u001b[0;34m()\u001b[0m\n\u001b[1;32m     19\u001b[0m     \u001b[0mptrain_add\u001b[0m\u001b[0;34m.\u001b[0m\u001b[0mreset_index\u001b[0m\u001b[0;34m(\u001b[0m\u001b[0mdrop\u001b[0m\u001b[0;34m=\u001b[0m\u001b[0;32mTrue\u001b[0m\u001b[0;34m,\u001b[0m\u001b[0minplace\u001b[0m\u001b[0;34m=\u001b[0m\u001b[0;32mTrue\u001b[0m\u001b[0;34m)\u001b[0m\u001b[0;34m\u001b[0m\u001b[0m\n\u001b[1;32m     20\u001b[0m     \u001b[0mptest\u001b[0m\u001b[0;34m.\u001b[0m\u001b[0mreset_index\u001b[0m\u001b[0;34m(\u001b[0m\u001b[0mdrop\u001b[0m\u001b[0;34m=\u001b[0m\u001b[0;32mTrue\u001b[0m\u001b[0;34m,\u001b[0m\u001b[0minplace\u001b[0m\u001b[0;34m=\u001b[0m\u001b[0;32mTrue\u001b[0m\u001b[0;34m)\u001b[0m\u001b[0;34m\u001b[0m\u001b[0m\n\u001b[0;32m---> 21\u001b[0;31m     \u001b[0msel\u001b[0m \u001b[0;34m=\u001b[0m \u001b[0mVarianceThreshold\u001b[0m\u001b[0;34m(\u001b[0m\u001b[0mthreshold\u001b[0m\u001b[0;34m=\u001b[0m\u001b[0;36m1.5\u001b[0m\u001b[0;34m)\u001b[0m\u001b[0;34m.\u001b[0m\u001b[0mfit\u001b[0m\u001b[0;34m(\u001b[0m\u001b[0mptrain\u001b[0m\u001b[0;34m[\u001b[0m\u001b[0mcols\u001b[0m\u001b[0;34m]\u001b[0m\u001b[0;34m)\u001b[0m\u001b[0;34m\u001b[0m\u001b[0m\n\u001b[0m\u001b[1;32m     22\u001b[0m     \u001b[0mptrain_np\u001b[0m \u001b[0;34m=\u001b[0m \u001b[0msel\u001b[0m\u001b[0;34m.\u001b[0m\u001b[0mtransform\u001b[0m\u001b[0;34m(\u001b[0m\u001b[0mptrain\u001b[0m\u001b[0;34m[\u001b[0m\u001b[0mcols\u001b[0m\u001b[0;34m]\u001b[0m\u001b[0;34m)\u001b[0m\u001b[0;34m\u001b[0m\u001b[0m\n\u001b[1;32m     23\u001b[0m     \u001b[0mptrain_add_np\u001b[0m \u001b[0;34m=\u001b[0m \u001b[0msel\u001b[0m\u001b[0;34m.\u001b[0m\u001b[0mtransform\u001b[0m\u001b[0;34m(\u001b[0m\u001b[0mptrain_add\u001b[0m\u001b[0;34m[\u001b[0m\u001b[0mcols\u001b[0m\u001b[0;34m]\u001b[0m\u001b[0;34m)\u001b[0m\u001b[0;34m\u001b[0m\u001b[0m\n",
      "\u001b[0;31mNameError\u001b[0m: name 'cols' is not defined"
     ]
    }
   ],
   "source": [
    "test['target'] = ppreds\n",
    "test.loc[test['target'] > 0.955, 'target'] = 1 # initial 94\n",
    "test.loc[test['target'] < 0.045, 'target'] = 0 # initial 06\n",
    "usefull_test = test[(test['target'] == 1) | (test['target'] == 0)]\n",
    "new_train = pd.concat([train, usefull_test]).reset_index(drop=True)\n",
    "print(usefull_test.shape[0], \"Test Records added\")\n",
    "new_train.loc[poof > 0.99, 'target'] = 1 # initial 98\n",
    "new_train.loc[poof < 0.01, 'target'] = 0 # initial 02\n",
    "\n",
    "poof = np.zeros(len(train))\n",
    "ppreds = np.zeros(len(test))\n",
    "\n",
    "for i in tqdm_notebook(range(512)):\n",
    "    ptrain = train[train['wheezy-copper-turtle-magic']==i]\n",
    "    ptrain_add = new_train[new_train['wheezy-copper-turtle-magic']==i]\n",
    "    ptest = test[test['wheezy-copper-turtle-magic']==i]\n",
    "    idx1 = train[train['wheezy-copper-turtle-magic']==i].index\n",
    "    idx2 = test[test['wheezy-copper-turtle-magic']==i].index\n",
    "    ptrain_add.reset_index(drop=True,inplace=True)\n",
    "    ptest.reset_index(drop=True,inplace=True)\n",
    "    sel = VarianceThreshold(threshold=1.5).fit(ptrain[cols])\n",
    "    ptrain_np = sel.transform(ptrain[cols])\n",
    "    ptrain_add_np = sel.transform(ptrain_add[cols])\n",
    "    ptest_np = sel.transform(ptest[cols])\n",
    "    \n",
    "    skf = StratifiedKFold(n_splits=11, random_state=42, shuffle=True)\n",
    "    for train_index, test_index in skf.split(ptrain_add_np, ptrain_add['target']):\n",
    "        test_index3 = test_index[ test_index<len(ptrain) ] # ignore pseudo in oof\n",
    "\n",
    "        # MODEL AND PREDICT WITH QDA\n",
    "        clf = QuadraticDiscriminantAnalysis(reg_param=0.5)\n",
    "        clf.fit(ptrain_add_np[train_index,:],ptrain_add.loc[train_index]['target'])\n",
    "        poof[idx1[test_index3]] = clf.predict_proba(ptrain_add_np[test_index3,:])[:,1]\n",
    "        ppreds[idx2] += clf.predict_proba(ptest_np)[:,1] / skf.n_splits\n",
    "    auc1 = roc_auc_score(ptrain['target'], poof[idx1])\n",
    "    print(round(auc1,5))\n",
    "    ptrain_add_pos = ptrain_add[ptrain_add['target'] == 1]\n",
    "    ptrain_add_neg = ptrain_add[ptrain_add['target'] == 0]\n",
    "    ptrain_add_pos_np = sel.transform(ptrain_add_pos[cols])\n",
    "    ptrain_add_neg_np = sel.transform(ptrain_add_neg[cols])\n",
    "    \n",
    "    pindex, clf = get_clf(ptrain_add_np, ptrain_add_pos_np, ptrain_add_neg_np)\n",
    "    if clf:\n",
    "        ppp = clf.predict(ptrain_np)\n",
    "        pppt = clf.predict(ptest_np)\n",
    "        pr = clf.predict_proba(ptest_np)\n",
    "        preds = []\n",
    "        pt = []\n",
    "        for k in ppp:\n",
    "            if k in pindex:\n",
    "                preds.append(1)\n",
    "            else:\n",
    "                preds.append(0)\n",
    "        for i, k in enumerate(pppt):\n",
    "            if k in pindex:\n",
    "                pt.append(pr[i][k])\n",
    "            else:\n",
    "                pt.append(1 - pr[i][k])\n",
    "        auc2 = roc_auc_score(ptrain['target'],preds)\n",
    "        if auc1 - auc2 > 0.004:\n",
    "            poof[idx1] = preds\n",
    "            ppreds[idx2] = (np.array(pt) + ppreds[idx2]) / 2\n",
    "        else:\n",
    "            ppreds[idx2] = pt\n",
    "    print(round(auc1,5) ,round(auc2,5))\n",
    "\n",
    "auc = roc_auc_score(train['target'],poof)\n",
    "print('QDA scores CV =',round(auc,5))"
   ]
  },
  {
   "cell_type": "code",
   "execution_count": 6,
   "metadata": {},
   "outputs": [
    {
     "data": {
      "image/png": "[encoded data removed]",
      "text/plain": [
       "<Figure size 432x288 with 1 Axes>"
      ]
     },
     "metadata": {},
     "output_type": "display_data"
    }
   ],
   "source": [
    "sub = pd.read_csv('../input/sample_submission.csv')\n",
    "sub['target'] = ppreds\n",
    "sub.to_csv('submission.csv',index=False)\n",
    "\n",
    "import matplotlib.pyplot as plt\n",
    "plt.hist(ppreds,bins=100)\n",
    "plt.title('Final Test.csv predictions')\n",
    "plt.show()"
   ]
  }
 ],
 "metadata": {
  "kernelspec": {
   "display_name": "Python 3",
   "language": "python",
   "name": "python3"
  },
  "language_info": {
   "codemirror_mode": {
    "name": "ipython",
    "version": 3
   },
   "file_extension": ".py",
   "mimetype": "text/x-python",
   "name": "python",
   "nbconvert_exporter": "python",
   "pygments_lexer": "ipython3",
   "version": "3.6.4"
  }
 },
 "nbformat": 4,
 "nbformat_minor": 1
}
