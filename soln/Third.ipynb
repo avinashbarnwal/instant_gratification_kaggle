{
 "cells": [
  {
   "cell_type": "code",
   "execution_count": 1,
   "metadata": {},
   "outputs": [],
   "source": [
    "import numpy as np\n",
    "import pandas as pd\n",
    "import matplotlib.pyplot as plt\n",
    "import scipy.io as sio\n",
    "import os\n",
    "from pathlib import Path\n",
    "import csv\n",
    "import pickle\n",
    "from joblib import Parallel, delayed\n",
    "from tqdm import tqdm_notebook as tqdm\n",
    "import pdb\n",
    "import lightgbm as lgb\n",
    "import xgboost as xgb\n",
    "import random\n",
    "from sklearn.model_selection import GroupKFold, StratifiedKFold, KFold\n",
    "import seaborn as sn\n",
    "from sklearn.manifold import TSNE\n",
    "from sklearn.decomposition import TruncatedSVD\n",
    "from sklearn.mixture import GaussianMixture\n",
    "from sklearn.metrics import roc_auc_score\n",
    "from sklearn.metrics import confusion_matrix\n",
    "from sklearn.covariance import GraphicalLasso\n",
    "from sklearn.feature_selection import VarianceThreshold\n",
    "from scipy import linalg\n",
    "\n",
    "PATH_BASE = Path('../input')\n",
    "PATH_WORKING = Path('../working')"
   ]
  },
  {
   "cell_type": "code",
   "execution_count": 2,
   "metadata": {},
   "outputs": [],
   "source": [
    "train = pd.read_csv(PATH_BASE/'train.csv')\n",
    "test = pd.read_csv(PATH_BASE/'test.csv')"
   ]
  },
  {
   "cell_type": "code",
   "execution_count": 3,
   "metadata": {},
   "outputs": [],
   "source": [
    "def get_mean_cov(x,y):\n",
    "    model = GraphicalLasso(max_iter=200)\n",
    "    ones = (y==1).astype(bool)\n",
    "    x2 = x[ones]\n",
    "    model.fit(x2)\n",
    "    p1 = model.precision_\n",
    "    m1 = model.location_\n",
    "    \n",
    "    onesb = (y==0).astype(bool)\n",
    "    x2b = x[onesb]\n",
    "    model.fit(x2b)\n",
    "    p2 = model.precision_\n",
    "    m2 = model.location_\n",
    "    \n",
    "    ms = np.stack([m1,m2])\n",
    "    ps = np.stack([p1,p2])\n",
    "    return ms,ps"
   ]
  },
  {
   "cell_type": "code",
   "execution_count": 4,
   "metadata": {},
   "outputs": [],
   "source": [
    "def projectMeans(means):\n",
    "    means[means>0]=1\n",
    "    means[means<=0]=-1\n",
    "    return means\n",
    "\n",
    "def _compute_precision_cholesky(covariances, covariance_type):\n",
    "    estimate_precision_error_message = (\"Hell no\")\n",
    "    \n",
    "    if covariance_type in 'full':\n",
    "        n_components, n_features, _ = covariances.shape\n",
    "        precisions_chol = np.empty((n_components, n_features, n_features))\n",
    "        for k, covariance in enumerate(covariances):\n",
    "            try:\n",
    "                cov_chol = linalg.cholesky(covariance, lower=True)\n",
    "            except linalg.LinAlgError:\n",
    "                raise ValueError(estimate_precision_error_message)\n",
    "            precisions_chol[k] = linalg.solve_triangular(cov_chol,\n",
    "                                                         np.eye(n_features),\n",
    "                                                         lower=True).T\n",
    "    \n",
    "    return precisions_chol\n",
    "\n",
    "def _estimate_gaussian_covariances_full(resp, X, nk, means, reg_covar):\n",
    "    n_components, n_features = means.shape\n",
    "    covariances = np.empty((n_components, n_features, n_features))\n",
    "    for k in range(n_components):\n",
    "        diff = X - means[k]\n",
    "        covariances[k] = np.dot(resp[:, k] * diff.T, diff) / nk[k]\n",
    "        covariances[k].flat[::n_features + 1] += reg_covar\n",
    "    return covariances\n",
    "\n",
    "def _estimate_gaussian_parameters2(X, resp, reg_covar, covariance_type):\n",
    "    nk = resp.sum(axis=0) + 10 * np.finfo(resp.dtype).eps\n",
    "    means = np.dot(resp.T, X) / nk[:, np.newaxis]\n",
    "    means = projectMeans(means)\n",
    "\n",
    "    covariances = {\"full\": _estimate_gaussian_covariances_full}[covariance_type](resp, X, nk, means, reg_covar)\n",
    "    return nk, means, covariances\n",
    "\n",
    "class GaussianMixture2(GaussianMixture):\n",
    "    def _m_step(self, X, log_resp):\n",
    "        resp = np.exp(log_resp)\n",
    "        sums = resp.sum(0)\n",
    "        if sums.max() - sums.min() > 2:\n",
    "            for i in range(3):\n",
    "                resp = len(X) * resp / resp.sum(0) / len(sums)\n",
    "                resp = resp/resp.sum(1)[:,None]\n",
    "        \n",
    "        n_samples, _ = X.shape\n",
    "        self.weights_, self.means_, self.covariances_ = (\n",
    "            _estimate_gaussian_parameters2(X, resp, self.reg_covar,\n",
    "                                          self.covariance_type))\n",
    "        \n",
    "        self.weights_ /= n_samples\n",
    "        self.precisions_cholesky_ = _compute_precision_cholesky(\n",
    "            self.covariances_, self.covariance_type)\n",
    "\n",
    "        \n",
    "random.seed(1234)\n",
    "np.random.seed(1234)\n",
    "os.environ['PYTHONHASHSEED'] = str(1234)"
   ]
  },
  {
   "cell_type": "code",
   "execution_count": 5,
   "metadata": {},
   "outputs": [
    {
     "data": {
      "application/vnd.jupyter.widget-view+json": {
       "model_id": "7f47a297b08b4d67befce6a60d3e68ca",
       "version_major": 2,
       "version_minor": 0
      },
      "text/plain": [
       "HBox(children=(IntProgress(value=0, max=512), HTML(value='')))"
      ]
     },
     "metadata": {},
     "output_type": "display_data"
    },
    {
     "name": "stdout",
     "output_type": "stream",
     "text": [
      "QMM scores CV = 0.49997\n"
     ]
    },
    {
     "name": "stderr",
     "output_type": "stream",
     "text": [
      "/opt/conda/lib/python3.6/site-packages/sklearn/mixture/base.py:265: ConvergenceWarning: Initialization 1 did not converge. Try different init parameters, or increase max_iter, tol or check for degenerate data.\n",
      "  % (init + 1), ConvergenceWarning)\n"
     ]
    },
    {
     "name": "stdout",
     "output_type": "stream",
     "text": [
      "QMM scores CV = 0.50289\n",
      "QMM scores CV = 0.5041\n",
      "QMM scores CV = 0.50594\n",
      "QMM scores CV = 0.50835\n",
      "QMM scores CV = 0.51188\n"
     ]
    },
    {
     "name": "stderr",
     "output_type": "stream",
     "text": [
      "/opt/conda/lib/python3.6/site-packages/sklearn/mixture/base.py:265: ConvergenceWarning: Initialization 1 did not converge. Try different init parameters, or increase max_iter, tol or check for degenerate data.\n",
      "  % (init + 1), ConvergenceWarning)\n"
     ]
    },
    {
     "name": "stdout",
     "output_type": "stream",
     "text": [
      "QMM scores CV = 0.51565\n",
      "QMM scores CV = 0.51885\n",
      "QMM scores CV = 0.52322\n",
      "QMM scores CV = 0.52709\n",
      "QMM scores CV = 0.53215\n",
      "QMM scores CV = 0.53704\n"
     ]
    },
    {
     "name": "stderr",
     "output_type": "stream",
     "text": [
      "/opt/conda/lib/python3.6/site-packages/sklearn/mixture/base.py:265: ConvergenceWarning: Initialization 1 did not converge. Try different init parameters, or increase max_iter, tol or check for degenerate data.\n",
      "  % (init + 1), ConvergenceWarning)\n"
     ]
    },
    {
     "name": "stdout",
     "output_type": "stream",
     "text": [
      "QMM scores CV = 0.54209\n"
     ]
    },
    {
     "name": "stderr",
     "output_type": "stream",
     "text": [
      "/opt/conda/lib/python3.6/site-packages/sklearn/mixture/base.py:265: ConvergenceWarning: Initialization 1 did not converge. Try different init parameters, or increase max_iter, tol or check for degenerate data.\n",
      "  % (init + 1), ConvergenceWarning)\n"
     ]
    },
    {
     "name": "stdout",
     "output_type": "stream",
     "text": [
      "QMM scores CV = 0.54702\n",
      "QMM scores CV = 0.55347\n",
      "QMM scores CV = 0.56031\n",
      "QMM scores CV = 0.56791\n",
      "QMM scores CV = 0.57502\n",
      "QMM scores CV = 0.58178\n",
      "QMM scores CV = 0.5896\n",
      "QMM scores CV = 0.59683\n",
      "QMM scores CV = 0.60511\n",
      "QMM scores CV = 0.6131\n",
      "QMM scores CV = 0.62118\n"
     ]
    },
    {
     "name": "stderr",
     "output_type": "stream",
     "text": [
      "/opt/conda/lib/python3.6/site-packages/sklearn/mixture/base.py:265: ConvergenceWarning: Initialization 1 did not converge. Try different init parameters, or increase max_iter, tol or check for degenerate data.\n",
      "  % (init + 1), ConvergenceWarning)\n"
     ]
    },
    {
     "name": "stdout",
     "output_type": "stream",
     "text": [
      "QMM scores CV = 0.62951\n",
      "QMM scores CV = 0.63868\n",
      "QMM scores CV = 0.64754\n",
      "QMM scores CV = 0.65689\n"
     ]
    },
    {
     "name": "stderr",
     "output_type": "stream",
     "text": [
      "/opt/conda/lib/python3.6/site-packages/sklearn/mixture/base.py:265: ConvergenceWarning: Initialization 1 did not converge. Try different init parameters, or increase max_iter, tol or check for degenerate data.\n",
      "  % (init + 1), ConvergenceWarning)\n"
     ]
    },
    {
     "name": "stdout",
     "output_type": "stream",
     "text": [
      "QMM scores CV = 0.6659\n"
     ]
    },
    {
     "name": "stderr",
     "output_type": "stream",
     "text": [
      "/opt/conda/lib/python3.6/site-packages/sklearn/mixture/base.py:265: ConvergenceWarning: Initialization 1 did not converge. Try different init parameters, or increase max_iter, tol or check for degenerate data.\n",
      "  % (init + 1), ConvergenceWarning)\n",
      "/opt/conda/lib/python3.6/site-packages/sklearn/mixture/base.py:265: ConvergenceWarning: Initialization 1 did not converge. Try different init parameters, or increase max_iter, tol or check for degenerate data.\n",
      "  % (init + 1), ConvergenceWarning)\n"
     ]
    },
    {
     "name": "stdout",
     "output_type": "stream",
     "text": [
      "QMM scores CV = 0.67557\n",
      "QMM scores CV = 0.68606\n",
      "QMM scores CV = 0.69655\n"
     ]
    },
    {
     "name": "stderr",
     "output_type": "stream",
     "text": [
      "/opt/conda/lib/python3.6/site-packages/sklearn/mixture/base.py:265: ConvergenceWarning: Initialization 1 did not converge. Try different init parameters, or increase max_iter, tol or check for degenerate data.\n",
      "  % (init + 1), ConvergenceWarning)\n",
      "/opt/conda/lib/python3.6/site-packages/sklearn/mixture/base.py:265: ConvergenceWarning: Initialization 1 did not converge. Try different init parameters, or increase max_iter, tol or check for degenerate data.\n",
      "  % (init + 1), ConvergenceWarning)\n",
      "/opt/conda/lib/python3.6/site-packages/sklearn/mixture/base.py:265: ConvergenceWarning: Initialization 1 did not converge. Try different init parameters, or increase max_iter, tol or check for degenerate data.\n",
      "  % (init + 1), ConvergenceWarning)\n"
     ]
    },
    {
     "name": "stdout",
     "output_type": "stream",
     "text": [
      "QMM scores CV = 0.70868\n",
      "QMM scores CV = 0.72007\n",
      "QMM scores CV = 0.73168\n",
      "QMM scores CV = 0.74383\n",
      "QMM scores CV = 0.7562\n",
      "QMM scores CV = 0.76905\n",
      "QMM scores CV = 0.78169\n",
      "QMM scores CV = 0.79516\n",
      "QMM scores CV = 0.80814\n"
     ]
    },
    {
     "name": "stderr",
     "output_type": "stream",
     "text": [
      "/opt/conda/lib/python3.6/site-packages/sklearn/mixture/base.py:265: ConvergenceWarning: Initialization 1 did not converge. Try different init parameters, or increase max_iter, tol or check for degenerate data.\n",
      "  % (init + 1), ConvergenceWarning)\n"
     ]
    },
    {
     "name": "stdout",
     "output_type": "stream",
     "text": [
      "QMM scores CV = 0.82137\n",
      "QMM scores CV = 0.8351\n",
      "QMM scores CV = 0.84908\n"
     ]
    },
    {
     "name": "stderr",
     "output_type": "stream",
     "text": [
      "/opt/conda/lib/python3.6/site-packages/sklearn/mixture/base.py:265: ConvergenceWarning: Initialization 1 did not converge. Try different init parameters, or increase max_iter, tol or check for degenerate data.\n",
      "  % (init + 1), ConvergenceWarning)\n"
     ]
    },
    {
     "name": "stdout",
     "output_type": "stream",
     "text": [
      "QMM scores CV = 0.86357\n"
     ]
    },
    {
     "name": "stderr",
     "output_type": "stream",
     "text": [
      "/opt/conda/lib/python3.6/site-packages/sklearn/mixture/base.py:265: ConvergenceWarning: Initialization 1 did not converge. Try different init parameters, or increase max_iter, tol or check for degenerate data.\n",
      "  % (init + 1), ConvergenceWarning)\n"
     ]
    },
    {
     "name": "stdout",
     "output_type": "stream",
     "text": [
      "QMM scores CV = 0.87854\n",
      "QMM scores CV = 0.89376\n",
      "QMM scores CV = 0.909\n",
      "QMM scores CV = 0.92509\n"
     ]
    },
    {
     "name": "stderr",
     "output_type": "stream",
     "text": [
      "/opt/conda/lib/python3.6/site-packages/sklearn/mixture/base.py:265: ConvergenceWarning: Initialization 1 did not converge. Try different init parameters, or increase max_iter, tol or check for degenerate data.\n",
      "  % (init + 1), ConvergenceWarning)\n"
     ]
    },
    {
     "name": "stdout",
     "output_type": "stream",
     "text": [
      "QMM scores CV = 0.94161\n",
      "QMM scores CV = 0.95792\n",
      "QMM scores CV = 0.97434\n",
      "\n",
      "[378.  43.  91.]\n",
      "Final QMM scores CV = 0.97604\n"
     ]
    }
   ],
   "source": [
    "# INITIALIZE VARIABLES\n",
    "cols = [c for c in train.columns if c not in ['id', 'target']]\n",
    "cols.remove('wheezy-copper-turtle-magic')\n",
    "oof = np.zeros(len(train))\n",
    "preds = np.zeros(len(test))\n",
    "\n",
    "N_RAND_INIT = 3\n",
    "N_CLUST_OPT = 3\n",
    "\n",
    "all_acc = np.zeros((512,N_CLUST_OPT, N_RAND_INIT))\n",
    "\n",
    "j_selection = np.zeros(N_CLUST_OPT)\n",
    "\n",
    "# BUILD 512 SEPARATE MODELS\n",
    "for i in tqdm(range(512)):\n",
    "    # ONLY TRAIN WITH DATA WHERE WHEEZY EQUALS I\n",
    "    train2 = train[train['wheezy-copper-turtle-magic']==i]\n",
    "    test2 = test[test['wheezy-copper-turtle-magic']==i]\n",
    "    idx1 = train2.index; idx2 = test2.index\n",
    "    train2.reset_index(drop=True,inplace=True)\n",
    "    \n",
    "    # FEATURE SELECTION (USE APPROX 40 OF 255 FEATURES)\n",
    "    sel = VarianceThreshold(threshold=1.5).fit(train2[cols])\n",
    "    train3 = sel.transform(train2[cols])\n",
    "    test3 = sel.transform(test2[cols])\n",
    "    \n",
    "    test_index = range(len(train3))\n",
    "\n",
    "    yf = train2['target']\n",
    "    ms, ps = get_mean_cov(train3,yf)\n",
    "\n",
    "    cc_list = []\n",
    "    nc_list = [6,4,8]\n",
    "    for j in range(N_CLUST_OPT):\n",
    "        cc_list.append(['cluster_' + str(i) for i in range(nc_list[j])])\n",
    "    \n",
    "    gm_list = []\n",
    "    acc = np.zeros((N_CLUST_OPT, N_RAND_INIT))\n",
    "    res_list = []\n",
    "    ctc_list = []\n",
    "    \n",
    "    for j in range(N_CLUST_OPT):\n",
    "        gm_list.append([])\n",
    "        res_list.append([])\n",
    "        ctc_list.append([])\n",
    "        \n",
    "        nc = nc_list[j]\n",
    "        \n",
    "        for k in range(N_RAND_INIT):\n",
    "            if j == 0:\n",
    "                ps_list = np.concatenate([ps,ps,ps], axis=0)\n",
    "                \n",
    "                th = 1.6/4\n",
    "                th1 = -0.8 + th + 0.5*(np.random.rand(1)-0.5)*th\n",
    "                th2 = 0.5*(np.random.rand(1)-0.5)*th\n",
    "                th3 = 0.8 - th + 0.5*(np.random.rand(1)-0.5)*th\n",
    "                \n",
    "                ms1 = ms.copy()\n",
    "                ms1[ms>=th1]=1\n",
    "                ms1[ms<th1]=-1\n",
    "                ms2 = ms.copy()\n",
    "                ms2[ms>=th2]=1\n",
    "                ms2[ms<th2]=-1\n",
    "                ms3 = ms.copy()\n",
    "                ms3[ms>=th3]=1\n",
    "                ms3[ms<th3]=-1\n",
    "                ms_list = np.concatenate([ms1,ms2,ms3], axis=0)\n",
    "            \n",
    "            if j == 1:\n",
    "                ps_list = np.concatenate([ps,ps], axis=0)\n",
    "                \n",
    "                th = 1.6/3\n",
    "                th1 = -0.8 + th + 0.5*(np.random.rand(1)-0.5)*th\n",
    "                th2 = 0.8 - th + 0.5*(np.random.rand(1)-0.5)*th                \n",
    "                \n",
    "                ms1 = ms.copy()\n",
    "                ms1[ms>=th1]=1\n",
    "                ms1[ms<th1]=-1\n",
    "                ms2 = ms.copy()\n",
    "                ms2[ms>=th2]=1\n",
    "                ms2[ms<th2]=-1\n",
    "                ms_list = np.concatenate([ms1,ms2], axis=0)\n",
    "            \n",
    "            if j == 2:\n",
    "                ps_list = np.concatenate([ps,ps,ps,ps], axis=0)\n",
    "                \n",
    "                th = 1.6/5\n",
    "                th1 = -0.8 + th + 0.5*(np.random.rand(1)-0.5)*th\n",
    "                th2 = -0.8 + 2*th + 0.5*(np.random.rand(1)-0.5)*th\n",
    "                th3 = 0.8 - 2*th + 0.5*(np.random.rand(1)-0.5)*th\n",
    "                th4 = 0.8 - th + 0.5*(np.random.rand(1)-0.5)*th\n",
    "                \n",
    "                ms1 = ms.copy()\n",
    "                ms1[ms>=th1]=1\n",
    "                ms1[ms<th1]=-1\n",
    "                ms2 = ms.copy()\n",
    "                ms2[ms>=th2]=1\n",
    "                ms2[ms<th2]=-1\n",
    "                ms3 = ms.copy()\n",
    "                ms3[ms>=th3]=1\n",
    "                ms3[ms<th3]=-1\n",
    "                ms4 = ms.copy()\n",
    "                ms4[ms>=th4]=1\n",
    "                ms4[ms<th4]=-1\n",
    "                ms_list = np.concatenate([ms1,ms2,ms3,ms4], axis=0)\n",
    "            \n",
    "            perm = np.random.permutation(nc)\n",
    "            ps_list = ps_list[perm]\n",
    "            ms_list = ms_list[perm]\n",
    "            \n",
    "            gm = GaussianMixture2(n_components=nc, init_params='random', covariance_type='full', tol=0.0001,reg_covar=0.001,\n",
    "                                  max_iter=5000, n_init=1, means_init=ms_list, precisions_init=ps_list, random_state=1234)\n",
    "            gm.fit(np.concatenate([train3,test3],axis = 0))\n",
    "\n",
    "            res = pd.concat([pd.DataFrame(gm.predict_proba(train3), columns = cc_list[j]), \n",
    "                             yf.to_frame().reset_index(drop=True)], sort=False, axis=1)\n",
    "\n",
    "            cluster_to_class = res.groupby('target').agg('mean').values.argmax(0)\n",
    "\n",
    "            res = pd.concat([pd.DataFrame(gm.predict_proba(train3), columns = cc_list[j]), \n",
    "                             pd.DataFrame(cluster_to_class, index=cc_list[j], \n",
    "                                          columns=['target']).transpose()], sort=False, axis=0).\\\n",
    "                transpose().groupby('target').agg(sum).transpose()\n",
    "            \n",
    "            res_list[j].append(res[1])\n",
    "            gm_list[j].append(gm)\n",
    "            ctc_list[j].append(cluster_to_class)\n",
    "            acc[j,k] = (res.values.argmax(1) == yf.values).mean()\n",
    "            all_acc[i,j,k] = acc[j,k]\n",
    "    \n",
    "    best_acc = -1\n",
    "    best_k = 0\n",
    "    best_j = 0\n",
    "    \n",
    "    best_j = acc.mean(1).argmax()\n",
    "#    for j in range(N_CLUST_OPT):\n",
    "#        if j != 0 and acc.mean(1)[0] > acc.mean(1)[j]: continue\n",
    "    for k in range(N_RAND_INIT):\n",
    "        if best_acc < acc[best_j,k]:\n",
    "            best_acc = acc[best_j,k]\n",
    "            best_k = k\n",
    "    j_selection[best_j] += 1\n",
    "    \n",
    "    res2 = pd.concat([pd.DataFrame(gm_list[best_j][best_k].predict_proba(test3), columns = cc_list[best_j]), \n",
    "                      pd.DataFrame(ctc_list[best_j][best_k], index=cc_list[best_j], \n",
    "                                   columns=['target']).transpose()], sort=False, axis=0).\\\n",
    "        transpose().groupby('target').agg(sum).transpose()\n",
    "    \n",
    "    oof[idx1] = res_list[best_j][best_k]\n",
    "    preds[idx2] += res2[1]\n",
    "    \n",
    "    if i%10==0: print('QMM scores CV =',round(roc_auc_score(train['target'],oof),5))\n",
    "\n",
    "# PRINT CV AUC\n",
    "auc = roc_auc_score(train['target'],oof)\n",
    "print(j_selection)\n",
    "print('Final QMM scores CV =',round(auc,5))"
   ]
  },
  {
   "cell_type": "markdown",
   "metadata": {},
   "source": [
    "# Submit Predictions"
   ]
  },
  {
   "cell_type": "code",
   "execution_count": 6,
   "metadata": {},
   "outputs": [
    {
     "data": {
      "image/png": "[encoded data removed]",
      "text/plain": [
       "<Figure size 432x288 with 1 Axes>"
      ]
     },
     "metadata": {
      "needs_background": "light"
     },
     "output_type": "display_data"
    }
   ],
   "source": [
    "sub = pd.read_csv('../input/sample_submission.csv')\n",
    "sub['target'] = preds\n",
    "sub.to_csv('submission.csv',index=False)\n",
    "\n",
    "import matplotlib.pyplot as plt\n",
    "plt.hist(preds,bins=100)\n",
    "plt.title('Final Test.csv predictions')\n",
    "plt.show()"
   ]
  }
 ],
 "metadata": {
  "kernelspec": {
   "display_name": "Python 3",
   "language": "python",
   "name": "python3"
  },
  "language_info": {
   "codemirror_mode": {
    "name": "ipython",
    "version": 3
   },
   "file_extension": ".py",
   "mimetype": "text/x-python",
   "name": "python",
   "nbconvert_exporter": "python",
   "pygments_lexer": "ipython3",
   "version": "3.6.6"
  },
  "widgets": {
   "application/vnd.jupyter.widget-state+json": {
    "state": {
     "3591832b71734699afa50bc18b30e4f0": {
      "model_module": "@jupyter-widgets/base",
      "model_module_version": "1.1.0",
      "model_name": "LayoutModel",
      "state": {
       "_model_module": "@jupyter-widgets/base",
       "_model_module_version": "1.1.0",
       "_model_name": "LayoutModel",
       "_view_count": null,
       "_view_module": "@jupyter-widgets/base",
       "_view_module_version": "1.1.0",
       "_view_name": "LayoutView",
       "align_content": null,
       "align_items": null,
       "align_self": null,
       "border": null,
       "bottom": null,
       "display": null,
       "flex": null,
       "flex_flow": null,
       "grid_area": null,
       "grid_auto_columns": null,
       "grid_auto_flow": null,
       "grid_auto_rows": null,
       "grid_column": null,
       "grid_gap": null,
       "grid_row": null,
       "grid_template_areas": null,
       "grid_template_columns": null,
       "grid_template_rows": null,
       "height": null,
       "justify_content": null,
       "left": null,
       "margin": null,
       "max_height": null,
       "max_width": null,
       "min_height": null,
       "min_width": null,
       "order": null,
       "overflow": null,
       "overflow_x": null,
       "overflow_y": null,
       "padding": null,
       "right": null,
       "top": null,
       "visibility": null,
       "width": null
      }
     },
     "62c18aa98fd74fdda2cf35b6dc296b03": {
      "model_module": "@jupyter-widgets/controls",
      "model_module_version": "1.4.0",
      "model_name": "HTMLModel",
      "state": {
       "_dom_classes": [],
       "_model_module": "@jupyter-widgets/controls",
       "_model_module_version": "1.4.0",
       "_model_name": "HTMLModel",
       "_view_count": null,
       "_view_module": "@jupyter-widgets/controls",
       "_view_module_version": "1.4.0",
       "_view_name": "HTMLView",
       "description": "",
       "description_tooltip": null,
       "layout": "IPY_MODEL_3591832b71734699afa50bc18b30e4f0",
       "placeholder": "​",
       "style": "IPY_MODEL_9d22abf79e194deda916b056293d5022",
       "value": "100% 512/512 [28:47&lt;00:00,  2.76s/it]"
      }
     },
     "7f47a297b08b4d67befce6a60d3e68ca": {
      "model_module": "@jupyter-widgets/controls",
      "model_module_version": "1.4.0",
      "model_name": "HBoxModel",
      "state": {
       "_dom_classes": [],
       "_model_module": "@jupyter-widgets/controls",
       "_model_module_version": "1.4.0",
       "_model_name": "HBoxModel",
       "_view_count": null,
       "_view_module": "@jupyter-widgets/controls",
       "_view_module_version": "1.4.0",
       "_view_name": "HBoxView",
       "box_style": "",
       "children": [
        "IPY_MODEL_a3569db9b06546b7ac5d6115cc44f422",
        "IPY_MODEL_62c18aa98fd74fdda2cf35b6dc296b03"
       ],
       "layout": "IPY_MODEL_80ca4c66fcd64eac80f89e53802ffd13"
      }
     },
     "80ca4c66fcd64eac80f89e53802ffd13": {
      "model_module": "@jupyter-widgets/base",
      "model_module_version": "1.1.0",
      "model_name": "LayoutModel",
      "state": {
       "_model_module": "@jupyter-widgets/base",
       "_model_module_version": "1.1.0",
       "_model_name": "LayoutModel",
       "_view_count": null,
       "_view_module": "@jupyter-widgets/base",
       "_view_module_version": "1.1.0",
       "_view_name": "LayoutView",
       "align_content": null,
       "align_items": null,
       "align_self": null,
       "border": null,
       "bottom": null,
       "display": null,
       "flex": null,
       "flex_flow": null,
       "grid_area": null,
       "grid_auto_columns": null,
       "grid_auto_flow": null,
       "grid_auto_rows": null,
       "grid_column": null,
       "grid_gap": null,
       "grid_row": null,
       "grid_template_areas": null,
       "grid_template_columns": null,
       "grid_template_rows": null,
       "height": null,
       "justify_content": null,
       "left": null,
       "margin": null,
       "max_height": null,
       "max_width": null,
       "min_height": null,
       "min_width": null,
       "order": null,
       "overflow": null,
       "overflow_x": null,
       "overflow_y": null,
       "padding": null,
       "right": null,
       "top": null,
       "visibility": null,
       "width": null
      }
     },
     "9d22abf79e194deda916b056293d5022": {
      "model_module": "@jupyter-widgets/controls",
      "model_module_version": "1.4.0",
      "model_name": "DescriptionStyleModel",
      "state": {
       "_model_module": "@jupyter-widgets/controls",
       "_model_module_version": "1.4.0",
       "_model_name": "DescriptionStyleModel",
       "_view_count": null,
       "_view_module": "@jupyter-widgets/base",
       "_view_module_version": "1.1.0",
       "_view_name": "StyleView",
       "description_width": ""
      }
     },
     "a3569db9b06546b7ac5d6115cc44f422": {
      "model_module": "@jupyter-widgets/controls",
      "model_module_version": "1.4.0",
      "model_name": "IntProgressModel",
      "state": {
       "_dom_classes": [],
       "_model_module": "@jupyter-widgets/controls",
       "_model_module_version": "1.4.0",
       "_model_name": "IntProgressModel",
       "_view_count": null,
       "_view_module": "@jupyter-widgets/controls",
       "_view_module_version": "1.4.0",
       "_view_name": "ProgressView",
       "bar_style": "success",
       "description": "",
       "description_tooltip": null,
       "layout": "IPY_MODEL_c5cabcf1f52f45d886dfa45df18f6a84",
       "max": 512,
       "min": 0,
       "orientation": "horizontal",
       "style": "IPY_MODEL_fda563af00e84717981763a1be89e1f7",
       "value": 512
      }
     },
     "c5cabcf1f52f45d886dfa45df18f6a84": {
      "model_module": "@jupyter-widgets/base",
      "model_module_version": "1.1.0",
      "model_name": "LayoutModel",
      "state": {
       "_model_module": "@jupyter-widgets/base",
       "_model_module_version": "1.1.0",
       "_model_name": "LayoutModel",
       "_view_count": null,
       "_view_module": "@jupyter-widgets/base",
       "_view_module_version": "1.1.0",
       "_view_name": "LayoutView",
       "align_content": null,
       "align_items": null,
       "align_self": null,
       "border": null,
       "bottom": null,
       "display": null,
       "flex": null,
       "flex_flow": null,
       "grid_area": null,
       "grid_auto_columns": null,
       "grid_auto_flow": null,
       "grid_auto_rows": null,
       "grid_column": null,
       "grid_gap": null,
       "grid_row": null,
       "grid_template_areas": null,
       "grid_template_columns": null,
       "grid_template_rows": null,
       "height": null,
       "justify_content": null,
       "left": null,
       "margin": null,
       "max_height": null,
       "max_width": null,
       "min_height": null,
       "min_width": null,
       "order": null,
       "overflow": null,
       "overflow_x": null,
       "overflow_y": null,
       "padding": null,
       "right": null,
       "top": null,
       "visibility": null,
       "width": null
      }
     },
     "fda563af00e84717981763a1be89e1f7": {
      "model_module": "@jupyter-widgets/controls",
      "model_module_version": "1.4.0",
      "model_name": "ProgressStyleModel",
      "state": {
       "_model_module": "@jupyter-widgets/controls",
       "_model_module_version": "1.4.0",
       "_model_name": "ProgressStyleModel",
       "_view_count": null,
       "_view_module": "@jupyter-widgets/base",
       "_view_module_version": "1.1.0",
       "_view_name": "StyleView",
       "bar_color": null,
       "description_width": ""
      }
     }
    },
    "version_major": 2,
    "version_minor": 0
   }
  }
 },
 "nbformat": 4,
 "nbformat_minor": 1
}
