{
 "cells": [
  {
   "cell_type": "code",
   "execution_count": 1,
   "metadata": {
    "_cell_guid": "b1076dfc-b9ad-4769-8c92-a6c4dae69d19",
    "_uuid": "8f2839f25d086af736a60e9eeb907d3b93b6e0e5"
   },
   "outputs": [],
   "source": [
    "import numpy as np\n",
    "import pandas as pd\n",
    "from sklearn.model_selection import StratifiedKFold\n",
    "from sklearn.metrics import roc_auc_score\n",
    "from sklearn.preprocessing import StandardScaler\n",
    "from sklearn.feature_selection import VarianceThreshold\n",
    "from sklearn.discriminant_analysis import QuadraticDiscriminantAnalysis, LinearDiscriminantAnalysis\n",
    "from sklearn.pipeline import Pipeline\n",
    "from tqdm import tqdm_notebook\n",
    "import warnings\n",
    "import multiprocessing\n",
    "from scipy.optimize import minimize  \n",
    "import time\n",
    "warnings.filterwarnings('ignore')"
   ]
  },
  {
   "cell_type": "code",
   "execution_count": 2,
   "metadata": {
    "_cell_guid": "79c7e3d0-c299-4dcb-8224-4455121ee9b0",
    "_uuid": "d629ff2d2480ee46fbb7e2d37f6b5fab8052498a",
    "collapsed": true
   },
   "outputs": [],
   "source": [
    "# STEP 2\n",
    "train = pd.read_csv('../input/train.csv')\n",
    "test = pd.read_csv('../input/test.csv')\n",
    "cols = [c for c in train.columns if c not in ['id', 'target', 'wheezy-copper-turtle-magic']]"
   ]
  },
  {
   "cell_type": "code",
   "execution_count": 3,
   "metadata": {},
   "outputs": [
    {
     "name": "stdout",
     "output_type": "stream",
     "text": [
      "(262144, 258) (131073, 257)\n"
     ]
    },
    {
     "data": {
      "application/vnd.jupyter.widget-view+json": {
       "model_id": "078d5834582a4257a7552690b9b628c6",
       "version_major": 2,
       "version_minor": 0
      },
      "text/plain": [
       "HBox(children=(IntProgress(value=0, max=512), HTML(value='')))"
      ]
     },
     "metadata": {},
     "output_type": "display_data"
    },
    {
     "name": "stdout",
     "output_type": "stream",
     "text": [
      "\n",
      "AUC: 0.9649\n"
     ]
    }
   ],
   "source": [
    "print(train.shape, test.shape)\n",
    "# STEP 3\n",
    "oof = np.zeros(len(train))\n",
    "preds = np.zeros(len(test))\n",
    "\n",
    "for i in tqdm_notebook(range(512)):\n",
    "\n",
    "    train2 = train[train['wheezy-copper-turtle-magic']==i]\n",
    "    test2 = test[test['wheezy-copper-turtle-magic']==i]\n",
    "    idx1 = train2.index; idx2 = test2.index\n",
    "    train2.reset_index(drop=True,inplace=True)\n",
    "\n",
    "    data = pd.concat([pd.DataFrame(train2[cols]), pd.DataFrame(test2[cols])])\n",
    "    pipe = Pipeline([('vt', VarianceThreshold(threshold=2)), ('scaler', StandardScaler())])\n",
    "    data2 = pipe.fit_transform(data[cols])\n",
    "    train3 = data2[:train2.shape[0]]; test3 = data2[train2.shape[0]:]\n",
    "\n",
    "    skf = StratifiedKFold(n_splits=11, random_state=42)\n",
    "    for train_index, test_index in skf.split(train2, train2['target']):\n",
    "\n",
    "        clf = QuadraticDiscriminantAnalysis(0.5)\n",
    "        clf.fit(train3[train_index,:],train2.loc[train_index]['target'])\n",
    "        oof[idx1[test_index]] = clf.predict_proba(train3[test_index,:])[:,1]\n",
    "        preds[idx2] += clf.predict_proba(test3)[:,1] / skf.n_splits\n",
    "\n",
    "auc = roc_auc_score(train['target'], oof)\n",
    "print(f'AUC: {auc:.5}')\n"
   ]
  },
  {
   "cell_type": "code",
   "execution_count": 4,
   "metadata": {},
   "outputs": [
    {
     "name": "stdout",
     "output_type": "stream",
     "text": [
      "112714 Test Records added for iteration :  0\n"
     ]
    },
    {
     "data": {
      "application/vnd.jupyter.widget-view+json": {
       "model_id": "4ef98975354745459f3089bf2f3aa479",
       "version_major": 2,
       "version_minor": 0
      },
      "text/plain": [
       "HBox(children=(IntProgress(value=0, max=512), HTML(value='')))"
      ]
     },
     "metadata": {},
     "output_type": "display_data"
    },
    {
     "name": "stdout",
     "output_type": "stream",
     "text": [
      "\n",
      "AUC: 0.97154\n",
      "119378 Test Records added for iteration :  1\n"
     ]
    },
    {
     "data": {
      "application/vnd.jupyter.widget-view+json": {
       "model_id": "14f393af1bd0459ab7f20120f5882f21",
       "version_major": 2,
       "version_minor": 0
      },
      "text/plain": [
       "HBox(children=(IntProgress(value=0, max=512), HTML(value='')))"
      ]
     },
     "metadata": {},
     "output_type": "display_data"
    },
    {
     "name": "stdout",
     "output_type": "stream",
     "text": [
      "\n",
      "AUC: 0.97074\n",
      "119788 Test Records added for iteration :  2\n"
     ]
    },
    {
     "data": {
      "application/vnd.jupyter.widget-view+json": {
       "model_id": "67f03f51bc21420bbde43ab81ce61db3",
       "version_major": 2,
       "version_minor": 0
      },
      "text/plain": [
       "HBox(children=(IntProgress(value=0, max=512), HTML(value='')))"
      ]
     },
     "metadata": {},
     "output_type": "display_data"
    },
    {
     "name": "stdout",
     "output_type": "stream",
     "text": [
      "\n",
      "AUC: 0.97068\n",
      "119865 Test Records added for iteration :  3\n"
     ]
    },
    {
     "data": {
      "application/vnd.jupyter.widget-view+json": {
       "model_id": "f46d119fe55e45a4a682ea6f4b7aa74f",
       "version_major": 2,
       "version_minor": 0
      },
      "text/plain": [
       "HBox(children=(IntProgress(value=0, max=512), HTML(value='')))"
      ]
     },
     "metadata": {},
     "output_type": "display_data"
    },
    {
     "name": "stdout",
     "output_type": "stream",
     "text": [
      "\n",
      "AUC: 0.97068\n"
     ]
    }
   ],
   "source": [
    "# STEP 4\n",
    "for itr in range(4):\n",
    "    test['target'] = preds\n",
    "    test.loc[test['target'] > 0.955, 'target'] = 1 # initial 94\n",
    "    test.loc[test['target'] < 0.045, 'target'] = 0 # initial 06\n",
    "    usefull_test = test[(test['target'] == 1) | (test['target'] == 0)]\n",
    "    new_train = pd.concat([train, usefull_test]).reset_index(drop=True)\n",
    "    print(usefull_test.shape[0], \"Test Records added for iteration : \", itr)\n",
    "    new_train.loc[oof > 0.995, 'target'] = 1 # initial 98\n",
    "    new_train.loc[oof < 0.005, 'target'] = 0 # initial 02\n",
    "    oof2 = np.zeros(len(train))\n",
    "    preds = np.zeros(len(test))\n",
    "    for i in tqdm_notebook(range(512)):\n",
    "\n",
    "        train2 = new_train[new_train['wheezy-copper-turtle-magic']==i]\n",
    "        test2 = test[test['wheezy-copper-turtle-magic']==i]\n",
    "        idx1 = train[train['wheezy-copper-turtle-magic']==i].index\n",
    "        idx2 = test2.index\n",
    "        train2.reset_index(drop=True,inplace=True)\n",
    "\n",
    "        data = pd.concat([pd.DataFrame(train2[cols]), pd.DataFrame(test2[cols])])\n",
    "        pipe = Pipeline([('vt', VarianceThreshold(threshold=2)), ('scaler', StandardScaler())])\n",
    "        data2 = pipe.fit_transform(data[cols])\n",
    "        train3 = data2[:train2.shape[0]]\n",
    "        test3 = data2[train2.shape[0]:]\n",
    "\n",
    "        skf = StratifiedKFold(n_splits=11, random_state=time.time)\n",
    "        for train_index, test_index in skf.split(train2, train2['target']):\n",
    "            oof_test_index = [t for t in test_index if t < len(idx1)]\n",
    "            \n",
    "            clf = QuadraticDiscriminantAnalysis(0.5)\n",
    "            clf.fit(train3[train_index,:],train2.loc[train_index]['target'])\n",
    "            if len(oof_test_index) > 0:\n",
    "                oof2[idx1[oof_test_index]] = clf.predict_proba(train3[oof_test_index,:])[:,1]\n",
    "            preds[idx2] += clf.predict_proba(test3)[:,1] / skf.n_splits\n",
    "    auc = roc_auc_score(train['target'], oof2)\n",
    "    print(f'AUC: {auc:.5}')"
   ]
  },
  {
   "cell_type": "code",
   "execution_count": 5,
   "metadata": {},
   "outputs": [],
   "source": [
    "# STEP 5\n",
    "sub = pd.read_csv('../input/sample_submission.csv')\n",
    "sub['target'] = preds"
   ]
  },
  {
   "cell_type": "code",
   "execution_count": 6,
   "metadata": {},
   "outputs": [],
   "source": [
    "sub.to_csv('submission.csv',index=False)"
   ]
  }
 ],
 "metadata": {
  "kernelspec": {
   "display_name": "Python 3",
   "language": "python",
   "name": "python3"
  },
  "language_info": {
   "codemirror_mode": {
    "name": "ipython",
    "version": 3
   },
   "file_extension": ".py",
   "mimetype": "text/x-python",
   "name": "python",
   "nbconvert_exporter": "python",
   "pygments_lexer": "ipython3",
   "version": "3.6.4"
  }
 },
 "nbformat": 4,
 "nbformat_minor": 1
}
